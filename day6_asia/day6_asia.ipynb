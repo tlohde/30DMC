{
 "cells": [
  {
   "cell_type": "code",
   "execution_count": 1,
   "metadata": {},
   "outputs": [],
   "source": [
    "import geopandas as gpd\n",
    "import matplotlib.pyplot as plt\n",
    "from pyproj import CRS\n",
    "import cartopy.crs as ccrs\n",
    "from tqdm import tqdm\n",
    "from shapely import Point, LineString, Polygon\n",
    "import numpy as np\n",
    "from itertools import product"
   ]
  },
  {
   "cell_type": "code",
   "execution_count": 2,
   "metadata": {},
   "outputs": [],
   "source": [
    "qm = 10_001_965.729\n",
    "actual_poles = gpd.GeoDataFrame({'pole':['original','EPIA1','EPIA2'],\n",
    "                                 'geometry':[Point(86+40/60, 46+17/60),\n",
    "                                             Point(82.19,44.29),\n",
    "                                             Point(88.14,45.28)]},\n",
    "                                crs=4326)"
   ]
  },
  {
   "cell_type": "code",
   "execution_count": 3,
   "metadata": {},
   "outputs": [],
   "source": [
    "# make circle\n",
    "def make_circle_and_points(d, aeqd, num=20):\n",
    "    circle = Point(0,0).buffer(d)\n",
    "    minx,miny,maxx,maxy = circle.bounds\n",
    "    x_points = np.linspace(minx,maxx,num)\n",
    "    y_points = np.linspace(miny,maxy,num)\n",
    "\n",
    "    points = gpd.GeoDataFrame(geometry=[Point(p) for p in product(x_points,y_points)], crs=aeqd).clip(circle)\n",
    "    points['distance_to_centroid'] = points.distance(Point(0,0))\n",
    "    points = points.sort_values(by='distance_to_centroid', ascending=True).reset_index(drop=True)\n",
    "\n",
    "    # reproject and get lat lon coordinates of each point\n",
    "    points_4326 = points.to_crs(4326)\n",
    "    points_4326['lon'] = points_4326['geometry'].x\n",
    "    points_4326['lat'] = points_4326['geometry'].y\n",
    "\n",
    "    # then join with the points dataframe\n",
    "    points = points.merge(points_4326[['lon','lat']],\n",
    "                        left_index=True, right_index=True)\n",
    "\n",
    "    points['proj4'] = points.apply(lambda row: f'+proj=aeqd +lon_0={row[\"lon\"]} +lat_0={row[\"lat\"]} +ellps=WGS84 +units=m +no_defs', axis=1)\n",
    "    \n",
    "    return points\n",
    "\n",
    "\n",
    "def distance_to_boundary(proj4,poly_4326):\n",
    "    '''\n",
    "    # for each of these points, construct a new coordinates system centered on it...\n",
    "    # reproject thepolygon to this coordinate system\n",
    "    # get distance to boundary\n",
    "    # there is probably a quicker way than this...but it takes ~24 seconds for 276 rows...and i think that is ok\n",
    "    '''\n",
    "    new_aeqd = CRS.from_proj4(proj4)\n",
    "    rprj_poly = poly_4326.to_crs(new_aeqd)\n",
    "    d = rprj_poly.geometry[0].exterior.distance(Point(0,0))\n",
    "    \n",
    "    return d/1000 # to put it in km"
   ]
  },
  {
   "cell_type": "code",
   "execution_count": 4,
   "metadata": {},
   "outputs": [
    {
     "name": "stderr",
     "output_type": "stream",
     "text": [
      "c:\\Users\\s1759665\\Miniconda3\\envs\\shadow\\Lib\\site-packages\\geopandas\\geodataframe.py:1922: PerformanceWarning: DataFrame is highly fragmented.  This is usually the result of calling `frame.insert` many times, which has poor performance.  Consider joining all columns at once using pd.concat(axis=1) instead. To get a de-fragmented frame, use `newframe = frame.copy()`\n",
      "  df[exploded_geom.name] = exploded_geom.values\n"
     ]
    }
   ],
   "source": [
    "## read in data, filter on asia and largest contiguous landmass\n",
    "world = gpd.read_file('../day3_polygons/ne_10m_admin_0_countries.zip')\n",
    "\n",
    "# filter on asia (inc. Russia)\n",
    "asia = world.loc[(world.REGION_UN == 'Asia') | (world.ADMIN=='Russia')]\n",
    "\n",
    "# dissolve all polygons, then explode to single part to then identify \n",
    "# the biggest single polygon (i.e. the main Asian landmass (china, india, central asia...))\n",
    "asia_dissolve = asia.dissolve()\n",
    "asia_single_part = asia_dissolve.explode(index_parts=True).reset_index()\n",
    "\n",
    "# use equal area projection to calculate & identify biggest polygon\n",
    "hobo_dyer = CRS.from_proj4('+proj=cea +lon_0=0 +lat_ts=37.5 +x_0=0 +y_0=0 +ellps=WGS84 +units=m +no_defs')\n",
    "rprj_hd = asia_single_part.to_crs(hobo_dyer)\n",
    "rprj_hd['area'] = rprj_hd.area\n",
    "thepolygon = asia_single_part.loc[[rprj_hd['area'].idxmax()],'geometry'].values[0]  ## geometry of thepolygon is still in epsg4326\n",
    "thepolygon_4326 = gpd.GeoSeries(thepolygon,crs=4326)"
   ]
  },
  {
   "cell_type": "code",
   "execution_count": null,
   "metadata": {},
   "outputs": [],
   "source": []
  },
  {
   "cell_type": "code",
   "execution_count": 5,
   "metadata": {},
   "outputs": [
    {
     "name": "stdout",
     "output_type": "stream",
     "text": [
      "distance from \"centroid\" to nearest point on boundary: 2263.504 km\n"
     ]
    }
   ],
   "source": [
    "## set up for first run\n",
    "\n",
    "# largest area, is hereafter referred to as thepolygon\n",
    "#crudely estimating centroid in geographic coordinates\n",
    "# which will be wrong...because geographci coordinates\n",
    "# and this will give a warning\n",
    "x0 = thepolygon.centroid.x\n",
    "y0 = thepolygon.centroid.y\n",
    "centroid = Point(x0,y0)\n",
    "\n",
    "# construct an azimuthal equidistant projection centered on the approximate 'centroid'\n",
    "# the centroid will have coordinates, (0,0) in this projection\n",
    "aeqd = CRS.from_proj4(f'+proj=aeqd +lon_0={x0} +lat_0={y0} +ellps=WGS84 +units=m +no_defs')\n",
    "\n",
    "### quick plot to check that that looks about right\n",
    "# ax=world.to_crs(aeqd).plot(figsize=[2,2], fc='none')\n",
    "# ax.scatter(0,0)\n",
    "# ax.set_axis_off()\n",
    "\n",
    "## calculate the distance from this 'centroid' to the edge of thepolygon:\n",
    "# first reproject it:\n",
    "rprj_poly = thepolygon_4326.to_crs(aeqd)\n",
    "\n",
    "# get distance to boundary:\n",
    "d = rprj_poly.geometry[0].exterior.distance(Point(0,0))\n",
    "print(f'distance from \"centroid\" to nearest point on boundary: {np.round(d/1000,3)} km')\n",
    "\n",
    "# ax = rprj_poly.plot(fc='none', ec='k', label='the polygon')\n",
    "# ax.scatter(0,0, label='the origin / polygon centroid approximation')\n",
    "# ax.plot(*Point(0,0).buffer(d).exterior.coords.xy, label='circle of radius that just touches polygon boundary')\n",
    "# ax.legend(fontsize=8)"
   ]
  },
  {
   "cell_type": "code",
   "execution_count": 6,
   "metadata": {},
   "outputs": [],
   "source": [
    "asdf = make_circle_and_points(d,aeqd,20)\n",
    "asdf['dist'] = asdf.apply(lambda row: distance_to_boundary(row['proj4'], thepolygon_4326), axis=1)"
   ]
  },
  {
   "cell_type": "code",
   "execution_count": null,
   "metadata": {},
   "outputs": [],
   "source": []
  },
  {
   "cell_type": "code",
   "execution_count": null,
   "metadata": {},
   "outputs": [],
   "source": [
    "for i in tqdm(range(2)):\n",
    "    print(f'current search diameter: {d}')\n",
    "    points = make_circle_and_points(d, aeqd, 20*i)\n",
    "\n",
    "    points['distance_to_boundary'] = points.apply(lambda row: distance_to_boundary(row['proj4'], thepolygon_4326), axis=1)\n",
    "    \n",
    "\n",
    "    idx_max = points['distance_to_boundary'].idxmax()\n",
    "    print(f\"current best estimate: (lon,lat,distance (m)) {points.loc[idx_max, ['lon','lat','distance_to_boundary']]}\")\n",
    "\n",
    "    # get new aeqd projection\n",
    "    aeqd = CRS.from_proj4(points.loc[points['distance_to_boundary'].idxmax(),'proj4'])\n",
    "\n",
    "    # get difference between the current furtherst and the n-th furthest away (either 2nd, 3rd... or 5th)\n",
    "    d = points.loc[idx_max,'geometry'].distance(\n",
    "        points.loc[points['distance_to_boundary'].nlargest(10).index[-1],'geometry']\n",
    "        )\n",
    "    \n",
    "    print(f\"current best estimate: {points.loc[idx_max, ['lon','lat','distance_to_boundary']]}\")\n",
    "    \n",
    "    # fig, ax = plt.subplots()\n",
    "    # points.to_crs(4326).plot(column='distance_to_boundary',ax=ax)\n",
    "    # asia.plot(fc='none',ax=ax)\n",
    "    # ax.set_xlim(40,120)\n",
    "    # ax.set_ylim(10,70)"
   ]
  },
  {
   "cell_type": "code",
   "execution_count": null,
   "metadata": {},
   "outputs": [],
   "source": [
    "actual_poles.to_crs(points.crs)['geometry'].distance(points.loc[points['distance_to_boundary'].idxmax(),'geometry'])/1000"
   ]
  },
  {
   "cell_type": "code",
   "execution_count": null,
   "metadata": {},
   "outputs": [],
   "source": [
    "m = points.sort_values(by='distance_to_boundary').explore(column='distance_to_boundary')\n",
    "actual_poles.explore(m=m)\n",
    "m"
   ]
  },
  {
   "cell_type": "code",
   "execution_count": null,
   "metadata": {},
   "outputs": [],
   "source": [
    "m = points.explore()\n",
    "actual_pole.explore(m=m)\n",
    "m"
   ]
  },
  {
   "cell_type": "code",
   "execution_count": null,
   "metadata": {},
   "outputs": [],
   "source": []
  },
  {
   "cell_type": "code",
   "execution_count": null,
   "metadata": {},
   "outputs": [],
   "source": [
    "aeqd = CRS.from_proj4(points.loc[points['distance_to_boundary'].idxmax(),'proj4'])\n"
   ]
  },
  {
   "cell_type": "code",
   "execution_count": null,
   "metadata": {},
   "outputs": [],
   "source": [
    "points.loc[points['distance_to_boundary'].nlargest(5).index].to_crs(4326).explore(column='distance_to_boundary', legend=True)"
   ]
  },
  {
   "cell_type": "code",
   "execution_count": null,
   "metadata": {},
   "outputs": [],
   "source": [
    "ax=points.to_crs(4326).plot(column='distance_to_boundary',legend=True)\n",
    "thepolygon_4326.plot(ax=ax,fc='none')"
   ]
  },
  {
   "cell_type": "code",
   "execution_count": null,
   "metadata": {},
   "outputs": [],
   "source": [
    "\n",
    "# construct geoseries and reproject to geographic coordaintes\n",
    "circle_4326 = gpd.GeoSeries(circle, crs=aeqd).to_crs(4326)\n",
    "\n",
    "# get lon,lat bounds of the circle, then grid\n",
    "minlon, minlat, maxlon, maxlat = circle_4326.total_bounds"
   ]
  },
  {
   "cell_type": "code",
   "execution_count": null,
   "metadata": {},
   "outputs": [],
   "source": []
  },
  {
   "cell_type": "code",
   "execution_count": null,
   "metadata": {},
   "outputs": [],
   "source": []
  },
  {
   "cell_type": "code",
   "execution_count": null,
   "metadata": {},
   "outputs": [],
   "source": [
    "points = gpd.GeoSeries(points, crs=4326)\n",
    "points_clipped = points.clip(largest_area)\n",
    "m = points_clipped.explore()\n",
    "largest_area.centroid.explore(m=m)\n"
   ]
  },
  {
   "cell_type": "code",
   "execution_count": null,
   "metadata": {},
   "outputs": [],
   "source": [
    "wgs84=CRS('EPSG:4326')\n",
    "aeqd = CRS.from_proj4(f'+proj=aeqd +lon_0=86.67 +lat_0=46.28 +ellps=WGS84 +units=m +no_defs')"
   ]
  }
 ],
 "metadata": {
  "kernelspec": {
   "display_name": "shadow",
   "language": "python",
   "name": "python3"
  },
  "language_info": {
   "codemirror_mode": {
    "name": "ipython",
    "version": 3
   },
   "file_extension": ".py",
   "mimetype": "text/x-python",
   "name": "python",
   "nbconvert_exporter": "python",
   "pygments_lexer": "ipython3",
   "version": "3.11.0"
  }
 },
 "nbformat": 4,
 "nbformat_minor": 2
}
