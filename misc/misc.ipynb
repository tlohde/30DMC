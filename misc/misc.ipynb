{
 "cells": [
  {
   "cell_type": "code",
   "execution_count": null,
   "metadata": {},
   "outputs": [],
   "source": [
    "import osmnx as ox\n",
    "import geopandas as gpd\n",
    "from shapely import Point, LineString, Polygon, MultiPoint\n",
    "import numpy as np\n",
    "import matplotlib.pyplot as plt"
   ]
  },
  {
   "cell_type": "markdown",
   "metadata": {},
   "source": [
    "### querying overpass api"
   ]
  },
  {
   "cell_type": "code",
   "execution_count": null,
   "metadata": {},
   "outputs": [],
   "source": [
    "### querying \n",
    "overpass_url = \"https://overpass-api.de/api/interpreter\"\n",
    "overpass_query = '''\n",
    "[out:json];\n",
    "area[name=\"London\"]->.a;\n",
    "(\n",
    "  node(area.a)[\"shop\"~\"party|pyrotechnics\"];\n",
    "  node(area.a)[amenity=hospital];\n",
    ");\n",
    "out;\n",
    "'''\n",
    "\n",
    "response = requests.post(overpass_url, data=overpass_query)\n",
    "if response.status_code == 200:\n",
    "    data=response.json()\n",
    "    if len(data['elements'])!=0:\n",
    "        df = pd.DataFrame(data['elements'])\n",
    "        df = pd.concat([df.drop(columns='tags'),df['tags'].apply(pd.Series)], axis=1)\n",
    "        df['geometry'] = df.apply(lambda row: Point(row['lon'], row['lat']), axis=1)\n",
    "        gdf = gpd.GeoDataFrame(df, crs=4326)\n",
    "        gdf['venue'] = pd.Series()\n",
    "        gdf.loc[gdf['amenity'] == 'hospital', 'venue'] = 'hospital'\n",
    "        gdf.loc[gdf['shop'] == 'party', 'venue'] = 'party shop'\n",
    "        gdf.loc[gdf['shop'] == 'pyrotechnics', 'venue'] = 'fireworks shop'\n",
    "    else:\n",
    "        print('bugger')\n",
    "else:\n",
    "    print(f'no luck: {response.status_code}')"
   ]
  },
  {
   "cell_type": "markdown",
   "metadata": {},
   "source": [
    "## inversions"
   ]
  },
  {
   "cell_type": "code",
   "execution_count": null,
   "metadata": {},
   "outputs": [],
   "source": [
    "\n",
    "def inverse_point(p,origin,poly):\n",
    "    a = (p.x-origin.x, p.y-origin.y) # vector from origin to p\n",
    "    \n",
    "    # extend vector to edge of poly\n",
    "    factor=2\n",
    "    newp = Point(origin.x + factor*a[0], origin.y + factor*a[1])\n",
    "    while poly.contains(newp):\n",
    "        factor *= 2\n",
    "        newp = Point(origin.x + factor*a[0], origin.y + factor*a[1])\n",
    "    to_edge = LineString([origin,newp]).intersection(poly)\n",
    "    \n",
    "    q = to_edge.length * 1 / to_edge.project(p,normalized=True)\n",
    "    # print(q)\n",
    "    # p_prime = Point(origin.x + q*a[0], origin.y + q*a[1])\n",
    "    \n",
    "    # proper inversion\n",
    "    r = to_edge.length\n",
    "    q = r**2 / np.hypot(*a)\n",
    "    p_prime = Point(q * np.sin(np.arctan2(*a)),\n",
    "                    q * np.cos(np.arctan2(*a))\n",
    "                    )\n",
    "        \n",
    "    return p_prime\n",
    "    \n",
    "    \n",
    "    def inverse_linestring(ls,origin,poly):    \n",
    "    ps = [Point(p) for p in ls.coords]\n",
    "    primes = [inverse_point(p,origin, poly) for p in ps]\n",
    "    return LineString(primes)"
   ]
  },
  {
   "cell_type": "code",
   "execution_count": null,
   "metadata": {},
   "outputs": [],
   "source": [
    "cntr = Point(0,0)\n",
    "poly = cntr.buffer(10)\n",
    "xy = -10 + (np.random.random((10,2))*20)\n",
    "ps = [Point(p) for p in xy if poly.contains(Point(p))]\n",
    "poly2 = Point(0,3).buffer(3)\n",
    "x,y = poly2.exterior.coords.xy\n",
    "ps = [Point(p) for p in zip(x,y)]\n",
    "\n",
    "invert = [inverse_point(p,cntr,poly) for p in ps]"
   ]
  },
  {
   "cell_type": "code",
   "execution_count": null,
   "metadata": {},
   "outputs": [],
   "source": [
    "\n",
    "fig,ax=plt.subplots()\n",
    "\n",
    "ax.plot(*poly.exterior.coords.xy, label='reference')\n",
    "ax.scatter(cntr.x,cntr.y, marker='*', s=50,c='k', label='origin')\n",
    "\n",
    "# _ =[ax.plot(*ls.coords.xy) for ls in to_edges]\n",
    "# _=[ax.scatter(p.x,p.y, s=5) for p in ps]\n",
    "ax.plot(*LineString(ps).coords.xy, label='feature')\n",
    "\n",
    "\n",
    "# _=[ax.scatter(p.x,p.y, marker='^',s=20) for p in invert]\n",
    "ax.plot(*LineString(invert).coords.xy, label='inverted feature')\n",
    "\n",
    "# _=[ax.plot(*l.coords.xy) for l in ls]\n",
    "ax.set_aspect('equal')\n",
    "ax.set_xlim(-20,20)\n",
    "\n",
    "ax.legend()\n"
   ]
  },
  {
   "cell_type": "code",
   "execution_count": null,
   "metadata": {},
   "outputs": [],
   "source": [
    "ls = LineString([[-3,1],[2,5],[4,6]])\n",
    "inverse_ls = inverse_linestring(ls, cntr, poly)\n",
    "\n",
    "fig,ax=plt.subplots()\n",
    "ax.plot(*poly.exterior.coords.xy)\n",
    "ax.plot(*ls.coords.xy)\n",
    "ax.plot(*inverse_ls.coords.xy, c='g', linestyle=':')\n",
    "ax.scatter(*cntr.coords.xy,marker='*')\n",
    "ax.set_aspect('equal')"
   ]
  },
  {
   "cell_type": "markdown",
   "metadata": {},
   "source": [
    "## osm query"
   ]
  },
  {
   "cell_type": "code",
   "execution_count": null,
   "metadata": {},
   "outputs": [],
   "source": [
    "query = ox.features_from_place('South Downs National Park', tags={'type':'boundary',\n",
    "                                                                  'boundary':'protected_area',\n",
    "                                                                  'designation':'national_park',\n",
    "                                                                  'name':'South Downs National Park',\n",
    "                                                                  'wikidata':'Q3695606'\n",
    "                                                                  })\n",
    "\n",
    "sdnp = query.loc[(query['type']=='boundary') &\n",
    "                 (query['boundary']=='protected_area') &\n",
    "                 (query['designation']=='national_park') &\n",
    "                 (query['name']=='South Downs National Park') &\n",
    "                 (query['wikidata']=='Q3695606')].reset_index()\n",
    "\n",
    "query = ox.features_from_polygon(sdnp['geometry'].values[0],\n",
    "                                 tags={'place':['town',\n",
    "                                                'village',\n",
    "                                                'hamlet']})\n",
    "\n",
    "places = query.loc[query.geom_type=='Point'].reset_index()\n",
    "\n",
    "sdnp = sdnp.to_crs(27700)\n",
    "places = places.to_crs(27700)\n",
    "ax=sdnp.plot(fc='none')\n",
    "places.plot(ax=ax, markersize=2)\n",
    "\n"
   ]
  },
  {
   "cell_type": "markdown",
   "metadata": {},
   "source": [
    "## masking polygons with raster"
   ]
  },
  {
   "cell_type": "code",
   "execution_count": 167,
   "metadata": {},
   "outputs": [],
   "source": [
    "import geopandas as gpd\n",
    "import xarray as xr\n",
    "from geocube.api.core import make_geocube\n",
    "import matplotlib.pyplot as plt\n",
    "import numpy as np\n",
    "from shapely import Point"
   ]
  },
  {
   "cell_type": "code",
   "execution_count": 188,
   "metadata": {},
   "outputs": [
    {
     "name": "stdout",
     "output_type": "stream",
     "text": [
      "out of 20, only 16 are contain some 'grey' regions\n"
     ]
    },
    {
     "data": {
      "image/png": "[encoded data removed]",
      "text/plain": [
       "<Figure size 1500x500 with 3 Axes>"
      ]
     },
     "metadata": {},
     "output_type": "display_data"
    }
   ],
   "source": [
    "\n",
    "## make a random, binary raster\n",
    "Z = np.random.random(size=(30,30))\n",
    "Z = np.where(Z<0.8, np.nan, 1)\n",
    "\n",
    "## and some x,y coordinates\n",
    "x = np.linspace(0,10_000,30)\n",
    "y = np.linspace(0,10_000,30)\n",
    "\n",
    "# create crs aware xarray dataset\n",
    "ds = xr.DataArray(data=Z,\n",
    "                  dims=['y','x'],\n",
    "                  coords={'x':(['x'],x),\n",
    "                          'y':(['y'],y)}).rio.set_crs(27700)\n",
    "\n",
    "# make some random circles within the bounds of the dataset\n",
    "r = np.random.randint(100,500,20)\n",
    "x0 = np.random.randint(r.max(), 10_000-r.max(), 20)\n",
    "y0 = np.random.randint(r.max(), 10_000-r.max(), 20)\n",
    "\n",
    "circles = [Point(x,y).buffer(r) for x,y,r in zip(x0,y0,r)]\n",
    "\n",
    "# and convert to a geodataframe\n",
    "gdf = gpd.GeoDataFrame(geometry=circles,crs=27700).reset_index()\n",
    "\n",
    "## rasterize the geodataframe to a resolution higher than `ds`\n",
    "## with each polygon given a unique value\n",
    "rasterized_polygons = make_geocube(gdf, measurements=['index'], output_crs=27700, resolution=(10,10))\n",
    "\n",
    "# reproject/resample ds to match that if the rasterized polygons\n",
    "ds_rprj = ds.rio.reproject_match(rasterized_polygons)\n",
    "\n",
    "# and multiply them, then get the unique values\n",
    "# being a binary raster this will zero (or nan) out all of polygon indexes that don't intersect with your raster\n",
    "unique = np.unique((ds_rprj * rasterized_polygons)['index'].values)\n",
    "\n",
    "idx = unique[~np.isnan(unique)]\n",
    "\n",
    "# identify indices of those to to exclude\n",
    "not_idx = [i for i in gdf.index if i not in idx]\n",
    "\n",
    "\n",
    "fig, axs = plt.subplots(figsize=[15,5],ncols=3)\n",
    "for ax in axs:\n",
    "    ds.plot(ax=ax,cmap='Greys', add_colorbar=False)\n",
    "\n",
    "gdf.plot(ax=axs[0],column='index', alpha=0.7)\n",
    "gdf.loc[idx].plot(ax=axs[1],column='index', alpha=0.7)\n",
    "gdf.loc[not_idx].plot(ax=axs[2],column='index', alpha=0.7)\n",
    "\n",
    "axs[0].set_title('all')\n",
    "axs[1].set_title('included')\n",
    "axs[2].set_title('excluded')\n",
    "\n",
    "print(f\"out of {len(gdf)}, only {len(idx)} are contain some 'grey' regions\")"
   ]
  },
  {
   "cell_type": "code",
   "execution_count": null,
   "metadata": {},
   "outputs": [],
   "source": []
  }
 ],
 "metadata": {
  "kernelspec": {
   "display_name": "xdem_plancomp",
   "language": "python",
   "name": "python3"
  },
  "language_info": {
   "codemirror_mode": {
    "name": "ipython",
    "version": 3
   },
   "file_extension": ".py",
   "mimetype": "text/x-python",
   "name": "python",
   "nbconvert_exporter": "python",
   "pygments_lexer": "ipython3",
   "version": "3.10.10"
  }
 },
 "nbformat": 4,
 "nbformat_minor": 2
}
