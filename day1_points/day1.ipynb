{
 "cells": [
  {
   "cell_type": "code",
   "execution_count": null,
   "metadata": {},
   "outputs": [],
   "source": [
    "import geopandas as gpd\n",
    "from shapely import Point\n",
    "import matplotlib.pyplot as plt\n",
    "plt.rcParams['font.family']=['monospace']"
   ]
  },
  {
   "cell_type": "code",
   "execution_count": null,
   "metadata": {},
   "outputs": [],
   "source": [
    "url = 'https://www.ordnancesurvey.co.uk/legacy/docs/gps/CompleteTrigArchive.zip'\n",
    "trigpoints = gpd.read_file(url)\n",
    "\n",
    "for var in ['EASTING','NORTHING','HEIGHT']:\n",
    "    trigpoints[var] = trigpoints[var].astype('float32')\n",
    "    \n",
    "trigpoints['geometry'] = trigpoints.apply(lambda q: Point(q['EASTING'],\n",
    "                                                          q['NORTHING']),\n",
    "                                          axis=1)\n",
    "trigpoints = trigpoints.set_crs(27700)"
   ]
  },
  {
   "cell_type": "code",
   "execution_count": null,
   "metadata": {},
   "outputs": [],
   "source": [
    "fig, ax = plt.subplots(figsize=[10,10])\n",
    "\n",
    "trigpoints.loc[(trigpoints['DESTROYED MARK INDICATOR']=='0')\n",
    "               &\n",
    "               (trigpoints['TYPE OF MARK'] == 'PILLAR')].plot(ax=ax,\n",
    "                                                              markersize=0.1,\n",
    "                                                              column='HEIGHT',\n",
    "                                                              cmap='gist_earth',\n",
    "                                                              legend=True,\n",
    "                                                              legend_kwds={\n",
    "                                                                  'label':'Elevation (m)',\n",
    "                                                                  'shrink':0.9,\n",
    "                                                                  }\n",
    "                                                              )\n",
    "_ = ax.set_title('Trig Points of\\nGreat Britain',\n",
    "                 loc='left',\n",
    "                 y=0.95,\n",
    "                 fontsize=16,\n",
    "                 )\n",
    "\n",
    "ax.set_axis_off()\n",
    "\n",
    "fig.savefig('day1.png', bbox_inches='tight')"
   ]
  }
 ],
 "metadata": {
  "kernelspec": {
   "display_name": "gpx",
   "language": "python",
   "name": "python3"
  },
  "language_info": {
   "codemirror_mode": {
    "name": "ipython",
    "version": 3
   },
   "file_extension": ".py",
   "mimetype": "text/x-python",
   "name": "python",
   "nbconvert_exporter": "python",
   "pygments_lexer": "ipython3",
   "version": "3.11.0"
  }
 },
 "nbformat": 4,
 "nbformat_minor": 2
}
