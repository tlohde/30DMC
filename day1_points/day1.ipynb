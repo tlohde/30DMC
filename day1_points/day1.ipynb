{
 "cells": [
  {
   "cell_type": "code",
   "execution_count": null,
   "metadata": {},
   "outputs": [],
   "source": [
    "import geopandas as gpd\n",
    "from shapely import Point\n",
    "import matplotlib.pyplot as plt\n",
    "plt.rcParams['font.family']=['monospace']"
   ]
  },
  {
   "cell_type": "code",
   "execution_count": null,
   "metadata": {},
   "outputs": [],
   "source": [
    "url = 'https://www.ordnancesurvey.co.uk/legacy/docs/gps/CompleteTrigArchive.zip'\n",
    "trigpoints = gpd.read_file(url)\n",
    "\n",
    "for var in ['EASTING','NORTHING','HEIGHT']:\n",
    "    trigpoints[var] = trigpoints[var].astype('float32')\n",
    "    \n",
    "trigpoints['geometry'] = trigpoints.apply(lambda q: Point(q['EASTING'],\n",
    "                                                          q['NORTHING']),\n",
    "                                          axis=1)\n",
    "trigpoints = trigpoints.set_crs(27700)"
   ]
  },
  {
   "cell_type": "code",
   "execution_count": null,
   "metadata": {},
   "outputs": [],
   "source": [
    "fig, ax = plt.subplots(figsize=[10,10])\n",
    "\n",
    "trigpoints.loc[(trigpoints['DESTROYED MARK INDICATOR']=='0')\n",
    "               &\n",
    "               (trigpoints['TYPE OF MARK'] == 'PILLAR')].plot(ax=ax,\n",
    "                                                              markersize=0.1,\n",
    "                                                              column='HEIGHT',\n",
    "                                                              cmap='gist_earth',\n",
    "                                                              legend=True,\n",
    "                                                              legend_kwds={\n",
    "                                                                  'label':'Elevation (m)',\n",
    "                                                                  'shrink':0.9,\n",
    "                                                                  }\n",
    "                                                              )\n",
    "_ = ax.set_title('Trig Points of\\nGreat Britain',\n",
    "                 loc='left',\n",
    "                 y=0.95,\n",
    "                 fontsize=16,\n",
    "                 )\n",
    "\n",
    "ax.set_axis_off()\n",
    "\n",
    "# fig.savefig('day1.png', bbox_inches='tight')"
   ]
  },
  {
   "cell_type": "markdown",
   "metadata": {},
   "source": [
    "### extension: joining trig points to nearest *k* neighbours"
   ]
  },
  {
   "cell_type": "code",
   "execution_count": null,
   "metadata": {},
   "outputs": [],
   "source": [
    "from scipy.spatial import distance\n",
    "import numpy as np\n",
    "import pandas as pd\n",
    "from shapely import LineString, MultiLineString"
   ]
  },
  {
   "cell_type": "code",
   "execution_count": null,
   "metadata": {},
   "outputs": [],
   "source": [
    "## filter list of trig points\n",
    "tp = trigpoints.loc[(trigpoints['DESTROYED MARK INDICATOR']=='0')\n",
    "                    &\n",
    "                    (trigpoints['TYPE OF MARK'] == 'PILLAR')].reset_index()\n",
    "\n",
    "coords = list(zip(tp.geometry.x.tolist(), tp.geometry.y.tolist()))\n",
    "\n",
    "# compute pair-wise distances\n",
    "distances = distance.cdist(coords,coords)\n",
    "\n",
    "# swap zeros on diagonal for nans\n",
    "distances[distances==0]=np.nan\n",
    "distances = pd.DataFrame(distances,\n",
    "                         index=tp.index,\n",
    "                         columns=tp.index)"
   ]
  },
  {
   "cell_type": "code",
   "execution_count": null,
   "metadata": {},
   "outputs": [],
   "source": [
    "# function for returning index of *k* minimum values\n",
    "def idxmink(arr,k):\n",
    "    idx = np.argpartition(arr.values,k)\n",
    "    k_idx = idx[:k]\n",
    "    return k_idx"
   ]
  },
  {
   "cell_type": "code",
   "execution_count": null,
   "metadata": {},
   "outputs": [],
   "source": [
    "# select k, apply function\n",
    "k = 2\n",
    "alphabet = 'abcdefghijklmnop'\n",
    "letters = [i for n,i in enumerate(alphabet) if n < k]\n",
    "tp['nearest_idxs'] = distances.apply(lambda q: idxmink(q,k) , axis=1)\n",
    "\n",
    "# expand list of k indices each into their own column\n",
    "tp[letters] = pd.DataFrame(tp['nearest_idxs'].tolist(), index=tp.index)\n",
    "\n",
    "# for each index, get geometry, and create linestring\n",
    "for var in letters:\n",
    "    ls = [LineString(q) for q in list(zip(tp['geometry'],\n",
    "                                          tp.loc[tp[var],'geometry']))]\n",
    "    tp[var+'_geo'] = ls\n",
    "\n",
    "# construct multi linestring for k-nearest and make geodataframe\n",
    "tp_k_nearest = tp[[var+'_geo' for var in letters]].apply(lambda q: MultiLineString(q.tolist()),\n",
    "                                                         axis=1)\n",
    "\n",
    "k_nearest = gpd.GeoDataFrame(geometry=tp_k_nearest,crs=27700)\n",
    "# that definitely contains duplicates"
   ]
  },
  {
   "cell_type": "code",
   "execution_count": null,
   "metadata": {},
   "outputs": [],
   "source": [
    "ax=k_nearest.plot(figsize=[10,10],\n",
    "                  linewidth=1)\n",
    "ax.set_axis_off()"
   ]
  }
 ],
 "metadata": {
  "kernelspec": {
   "display_name": "gpx",
   "language": "python",
   "name": "python3"
  },
  "language_info": {
   "codemirror_mode": {
    "name": "ipython",
    "version": 3
   },
   "file_extension": ".py",
   "mimetype": "text/x-python",
   "name": "python",
   "nbconvert_exporter": "python",
   "pygments_lexer": "ipython3",
   "version": "3.11.0"
  }
 },
 "nbformat": 4,
 "nbformat_minor": 2
}
