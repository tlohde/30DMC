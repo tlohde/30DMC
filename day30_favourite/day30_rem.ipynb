{
 "cells": [
  {
   "cell_type": "code",
   "execution_count": 1,
   "metadata": {},
   "outputs": [],
   "source": [
    "import leafmap\n",
    "import pystac_client\n",
    "import planetary_computer\n",
    "import rioxarray as rio\n",
    "import xarray as xr\n",
    "import numpy as np\n",
    "import geopandas as gpd\n",
    "from shapely.geometry import shape\n",
    "from shapely.ops import linemerge\n",
    "import matplotlib.pyplot as plt\n",
    "import cartopy.crs as ccrs\n",
    "from riverrem.REMMaker import REMMaker\n",
    "import osmnx.features as oxf\n",
    "from shapely import Point, box\n",
    "import pandas as pd\n",
    "from geocube.api.core import make_geocube\n",
    "from matplotlib.colors import LogNorm"
   ]
  },
  {
   "cell_type": "code",
   "execution_count": null,
   "metadata": {},
   "outputs": [],
   "source": [
    "m = leafmap.Map()\n",
    "m"
   ]
  },
  {
   "cell_type": "code",
   "execution_count": null,
   "metadata": {},
   "outputs": [],
   "source": [
    "aoi_gdf = gpd.GeoDataFrame.from_features(m.draw_features, crs=4326)\n",
    "aoi_gdf = aoi_gdf.to_crs(3857).to_crs(4326)\n",
    "aoi = box(*aoi_gdf.total_bounds)\n",
    "prj = ccrs.epsg(aoi_gdf.estimate_utm_crs().to_epsg())"
   ]
  },
  {
   "cell_type": "code",
   "execution_count": null,
   "metadata": {},
   "outputs": [],
   "source": [
    "## get contours in aoi from copernicus global DEM hosted on planetary computer\n",
    "catalog = pystac_client.Client.open(\n",
    "    \"https://planetarycomputer.microsoft.com/api/stac/v1\",\n",
    "    modifier=planetary_computer.sign_inplace,\n",
    ")\n",
    "\n",
    "search = catalog.search(collections=['cop-dem-glo-30'],\n",
    "                        intersects=aoi.envelope)\n",
    "items = list(search.get_items())\n",
    "\n",
    "# if aoi crosses multiple DEM tiles stitch 'em together\n",
    "if len(items) > 1:\n",
    "    data = []\n",
    "    for item in items:\n",
    "        signed_asset = planetary_computer.sign(item.assets[\"data\"])\n",
    "        with rio.open_rasterio(signed_asset.href) as f:\n",
    "            data.append(f.squeeze().drop_vars(\"band\").rename('z'))\n",
    "    dem = ((xr.merge(data))\n",
    "           .rio.set_crs(4326)\n",
    "           .rio.write_transform()\n",
    "           .rio.clip_box(*aoi.bounds))['z']\n",
    "    f.close()\n",
    "else:\n",
    "    signed_asset = planetary_computer.sign(items[0].assets[\"data\"])\n",
    "    dem =  (rio.open_rasterio(signed_asset.href)\n",
    "            .squeeze()\n",
    "            .rio.set_crs(4326)\n",
    "            .rio.write_transform()\n",
    "            .rio.clip_box(*aoi.bounds)).rename('z')"
   ]
  },
  {
   "cell_type": "code",
   "execution_count": null,
   "metadata": {},
   "outputs": [],
   "source": [
    "dem_prj = dem.rio.reproject(prj, resolution=30, nodata=np.nan)\n",
    "fig, ax = plt.subplots(subplot_kw={'projection':prj})\n",
    "dem_prj.plot(ax=ax)\n",
    "dem_prj.rio.to_raster('tmp.tif')"
   ]
  },
  {
   "cell_type": "code",
   "execution_count": null,
   "metadata": {},
   "outputs": [],
   "source": [
    "from riverrem.REMMaker import REMMaker\n",
    "# provide the DEM file path and desired output directory\n",
    "rem_maker = REMMaker(dem='tmp.tif', out_dir='.')\n",
    "# create an REM\n",
    "rem_maker.make_rem()"
   ]
  },
  {
   "cell_type": "code",
   "execution_count": null,
   "metadata": {},
   "outputs": [],
   "source": [
    "rem = rio.open_rasterio('tmp_REM.tif')"
   ]
  },
  {
   "cell_type": "code",
   "execution_count": null,
   "metadata": {},
   "outputs": [],
   "source": [
    "fig, ax = plt.subplots(subplot_kw={'projection':prj},\n",
    "                       figsize=[12,12])\n",
    "\n",
    "((rem + 1 + np.abs(rem.min(skipna=True)))).plot(robust=True,\n",
    "                                                           cmap='Blues',\n",
    "                                                           add_colorbar=False,\n",
    "                                                           ax=ax)\n",
    "\n",
    "ax.set_facecolor('k')"
   ]
  },
  {
   "cell_type": "code",
   "execution_count": null,
   "metadata": {},
   "outputs": [],
   "source": [
    "river_points = gpd.read_file('tmp_river_pts.shp')\n",
    "river_buffer = gpd.GeoDataFrame(geometry=[river_points.dissolve('id').buffer(500)[1]], \n",
    "                                data={'val':[1]},\n",
    "                                crs=prj)\n",
    "for_clipping = make_geocube(river_buffer, resolution=30)['val'].rio.reproject_match(rem)\n",
    "clipped = xr.where(for_clipping==1, rem, np.nan)"
   ]
  }
 ],
 "metadata": {
  "kernelspec": {
   "display_name": "xdem_plancomp",
   "language": "python",
   "name": "python3"
  },
  "language_info": {
   "codemirror_mode": {
    "name": "ipython",
    "version": 3
   },
   "file_extension": ".py",
   "mimetype": "text/x-python",
   "name": "python",
   "nbconvert_exporter": "python",
   "pygments_lexer": "ipython3",
   "version": "3.10.13"
  }
 },
 "nbformat": 4,
 "nbformat_minor": 2
}
