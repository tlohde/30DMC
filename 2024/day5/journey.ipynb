{
 "cells": [
  {
   "cell_type": "markdown",
   "metadata": {},
   "source": [
    "## 5 - A journey\n",
    ">Map any journey. Personal or not. Trace a journey—this could be a daily commute, a long-distance trip, or something from history. The key is to map movement from one place to another. 🚶\\u200d♂️✈️"
   ]
  },
  {
   "cell_type": "code",
   "execution_count": 2,
   "metadata": {},
   "outputs": [],
   "source": [
    "import cartopy.crs as ccrs\n",
    "import geopandas as gpd\n",
    "import osmnx as ox\n",
    "from shapely import MultiPolygon\n",
    "import shapely\n",
    "import mapping_funcs as mf\n",
    "import matplotlib.pyplot as plt\n",
    "from matplotlib.collections import LineCollection\n",
    "import numpy as np\n",
    "import pandas as pd\n",
    "import rioxarray as rio\n",
    "import seaborn as sns\n",
    "import xarray as xr\n",
    "\n",
    "# ox.settings.max_query_area_size = 6e12"
   ]
  },
  {
   "cell_type": "markdown",
   "metadata": {},
   "source": [
    "## getting and exporting data"
   ]
  },
  {
   "cell_type": "code",
   "execution_count": 24,
   "metadata": {},
   "outputs": [],
   "source": [
    "## get water features \n",
    "baltic_states = ox.geocode_to_gdf('Baltic States')\n",
    "water = ox.features_from_polygon(baltic_states.geometry[0],\n",
    "                                   tags={\n",
    "                                       'natural':'water'\n",
    "                                       }\n",
    "                                   )\n",
    "\n",
    "water_export = water.loc[water['water'].isin(['lake', 'reservoir', 'river', 'basin', 'oxbow', 'stream']),\n",
    "                         ['name', 'geometry', 'water']].reset_index(drop=True)\n",
    "\n",
    "water_export.to_parquet('baltic_states_water.parquet')"
   ]
  },
  {
   "cell_type": "code",
   "execution_count": 2,
   "metadata": {},
   "outputs": [],
   "source": [
    "# get elevation data\n",
    "aoi = shapely.from_wkt('POLYGON ((20.6009852 53.8967893, 28.2414937 53.8967893, 28.2414937 59.9383333, 20.6009852 59.9383333, 20.6009852 53.8967893))')\n",
    "dem = mf.DEM.get_copernicus_dem(aoi, 90, rprj=False, interp=False)\n",
    "dem.rename('dem').rio.to_raster('baltic_sates_dem.tiff')"
   ]
  },
  {
   "cell_type": "markdown",
   "metadata": {},
   "source": [
    "## readng in routes, sampling elevation along route"
   ]
  },
  {
   "cell_type": "code",
   "execution_count": 6,
   "metadata": {},
   "outputs": [],
   "source": [
    "## helper function for sampling along line\n",
    "def sample_along_line(dem, ls, length, idx, date, crs, offset=0):\n",
    "\n",
    "    n_samples = int(length*1000 / 90)\n",
    "    point_xy = np.array(\n",
    "        [ls.interpolate(i/n_samples,\n",
    "                        normalized=True)\n",
    "        .coords.xy for i in range(n_samples)]\n",
    "        )[:,:,0]\n",
    "    points = shapely.points(point_xy)\n",
    "    cumulative = offset + np.asarray([(ls.project(p)/1000) for p in points])\n",
    "    sample_gdf = (gpd.GeoDataFrame({'cumulative': cumulative,\n",
    "                                    'date': date,\n",
    "                                    'route_idx': idx,\n",
    "                                    'color_idx': idx % 2,\n",
    "                                    'x_utm': point_xy[:,0],\n",
    "                                    'y_utm': point_xy[:, 1],\n",
    "                                    },\n",
    "                                index=cumulative,\n",
    "                                geometry=points,\n",
    "                                crs=crs)\n",
    "                .rename_axis('cumulative')\n",
    "                .sort_index()\n",
    "                .to_crs(4326))\n",
    "    sample_gdf['lon'] = sample_gdf['geometry'].apply(lambda p: p.x)\n",
    "    sample_gdf['lat'] = sample_gdf['geometry'].apply(lambda p: p.y)\n",
    "    \n",
    "    sampled = dem.interp(x=sample_gdf['lon'].to_xarray(),\n",
    "                         y=sample_gdf['lat'].to_xarray())\n",
    "\n",
    "    sample_gdf['z'] = sampled.to_pandas()\n",
    "    \n",
    "    return sample_gdf"
   ]
  },
  {
   "cell_type": "code",
   "execution_count": 8,
   "metadata": {},
   "outputs": [
    {
     "name": "stderr",
     "output_type": "stream",
     "text": [
      "C:\\Users\\s1759665\\AppData\\Roaming\\Python\\Python312\\site-packages\\shapely\\linear.py:88: RuntimeWarning: invalid value encountered in line_locate_point\n",
      "  return lib.line_locate_point(line, other)\n",
      "C:\\Users\\s1759665\\AppData\\Roaming\\Python\\Python312\\site-packages\\shapely\\linear.py:88: RuntimeWarning: invalid value encountered in line_locate_point\n",
      "  return lib.line_locate_point(line, other)\n"
     ]
    }
   ],
   "source": [
    "dem = rio.open_rasterio('baltic_sates_dem_clipped.tiff').squeeze()\n",
    "\n",
    "route = gpd.read_file('tidy_routev3.geojson', columns=['bike','date','number','geometry'])\n",
    "route = (route[route['bike']]\n",
    "         .sort_values(by=['date',\n",
    "                          'number'])\n",
    "         .reset_index(drop=True))\n",
    "\n",
    "utm_crs = route.estimate_utm_crs()\n",
    "route = route.to_crs(utm_crs)\n",
    "route['distance'] = route.length/1000\n",
    "route['cumulative'] = route['distance'].cumsum()\n",
    "\n",
    "\n",
    "samples = []\n",
    "offset=0\n",
    "for row in route.itertuples():\n",
    "    sample = sample_along_line(dem,\n",
    "                               row.geometry,\n",
    "                               row.distance,\n",
    "                               row.number,\n",
    "                               row.date,\n",
    "                               utm_crs,\n",
    "                               offset)\n",
    "    offset = row.cumulative\n",
    "    samples.append(sample)\n"
   ]
  },
  {
   "cell_type": "code",
   "execution_count": 10,
   "metadata": {},
   "outputs": [
    {
     "name": "stdout",
     "output_type": "stream",
     "text": [
      "229\n"
     ]
    },
    {
     "data": {
      "image/png": "[encoded data removed]",
      "text/plain": [
       "<Figure size 714.5x100 with 1 Axes>"
      ]
     },
     "metadata": {},
     "output_type": "display_data"
    }
   ],
   "source": [
    "point_gdf = pd.concat(samples)\n",
    "\n",
    "# resample to every \n",
    "sample_freq = 10  # units: km\n",
    "resample_distances = np.arange(0, point_gdf['cumulative'].max(), sample_freq)\n",
    "print(len(resample_distances))\n",
    "\n",
    "resampled = point_gdf[['z']].reindex(\n",
    "    point_gdf.index.union(resample_distances)\n",
    "    ).interpolate('values').loc[resample_distances]\n",
    "\n",
    "fig, ax = plt.subplots(figsize=[7.145, 1])\n",
    "resampled.plot(c='k',\n",
    "               linewidth=1,\n",
    "               legend=False,\n",
    "               ax=ax,\n",
    "               )\n",
    "\n",
    "ax.fill_between(resampled.index,\n",
    "                resampled['z'],\n",
    "                np.zeros_like(resampled['z']),\n",
    "                color='w')\n",
    "\n",
    "xlims = [0, resampled.index.max()]\n",
    "ylims = [0, resampled['z'].max()]\n",
    "\n",
    "\n",
    "ax.set(xlim=xlims,\n",
    "       ylim=ylims,\n",
    "       xticks=[],\n",
    "       yticks=[],\n",
    "       xlabel=None)\n",
    "\n",
    "ax.set_axis_off()\n",
    "\n",
    "# fig.savefig('baltic_profile.svg', transparent=True, bbox_inches='tight', pad_inches=0)"
   ]
  }
 ],
 "metadata": {
  "kernelspec": {
   "display_name": "mapping",
   "language": "python",
   "name": "python3"
  },
  "language_info": {
   "codemirror_mode": {
    "name": "ipython",
    "version": 3
   },
   "file_extension": ".py",
   "mimetype": "text/x-python",
   "name": "python",
   "nbconvert_exporter": "python",
   "pygments_lexer": "ipython3",
   "version": "3.12.6"
  }
 },
 "nbformat": 4,
 "nbformat_minor": 2
}
