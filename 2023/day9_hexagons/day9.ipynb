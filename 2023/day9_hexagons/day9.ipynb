{
 "cells": [
  {
   "cell_type": "code",
   "execution_count": null,
   "metadata": {},
   "outputs": [],
   "source": [
    "import h3\n",
    "import geopandas as gpd\n",
    "from shapely import Point, Polygon, wkt\n",
    "import matplotlib.pyplot as plt\n",
    "import requests\n",
    "import cartopy.crs as ccrs\n",
    "import time"
   ]
  },
  {
   "cell_type": "code",
   "execution_count": null,
   "metadata": {},
   "outputs": [],
   "source": [
    "## read in geometry of great plains outline\n",
    "## downloaded from: https://cartographyvectors.com/map/1288-us-great-plains\n",
    "usgp = gpd.read_file('us-great-plains_1288.geojson')\n",
    "world = gpd.read_file('../day3_polygons/ne_10m_admin_0_countries.zip')\n",
    "oceans = gpd.read_file('../day3_polygons/ne_10m_ocean.zip')"
   ]
  },
  {
   "cell_type": "code",
   "execution_count": null,
   "metadata": {},
   "outputs": [],
   "source": [
    "# get geojson of great plains geometry\n",
    "gj = usgp.loc[0,'geometry'].__geo_interface__\n",
    "\n",
    "# identify hex names (at scale 3) that fill the geometry\n",
    "h3_hexes = h3.polyfill_geojson(gj, 3)\n",
    "print(f'there are {len(h3_hexes)} hexagons')\n",
    "\n",
    "# construct geodataframe of hexagons\n",
    "hexagons = gpd.GeoDataFrame(\n",
    "    data={'hex':list(h3_hexes)},\n",
    "    geometry=[Polygon(h3.h3_to_geo_boundary(h, geo_json=True)) for h in h3_hexes],\n",
    "    crs=4326)\n",
    "\n",
    "# and get centroids of each hexagon for querying elevation\n",
    "centroids = gpd.GeoSeries([Point(h3.h3_to_geo(q)[::-1]) for q in h3_hexes], crs=4326)\n",
    "\n",
    "def get_z(p):\n",
    "    '''\n",
    "    query ASTER GDEM for elevation data.\n",
    "    api is limited to 1/second & 1000/day\n",
    "    '''\n",
    "    time.sleep(1)\n",
    "    url = 'https://api.opentopodata.org/v1/aster30m'\n",
    "    params={'locations':f'{p.y},{p.x}'}\n",
    "    r = requests.get(url,params,timeout=2)\n",
    "    return r.json()['results'][0]['elevation']\n",
    "\n",
    "# get elevations and add to hexagons geodataframe\n",
    "z = centroids.apply(lambda p: get_z(p))\n",
    "hexagons['z'] = z"
   ]
  },
  {
   "cell_type": "code",
   "execution_count": null,
   "metadata": {},
   "outputs": [],
   "source": [
    "# # export then read back in... so I don't have to download again\n",
    "# hexagons.to_file('with_z.geojson', driver='GeoJSON')\n",
    "# hxgn = gpd.read_file('with_z.geojson')"
   ]
  },
  {
   "cell_type": "code",
   "execution_count": null,
   "metadata": {},
   "outputs": [],
   "source": [
    "# set projection\n",
    "prj = ccrs.AlbersEqualArea(central_longitude=-96,\n",
    "                           standard_parallels=[20,60],\n",
    "                           globe=ccrs.Globe(datum='NAD83'))\n",
    "\n",
    "fig,ax=plt.subplots(figsize=[8,8],\n",
    "                    subplot_kw={'projection':prj},\n",
    "                    edgecolor='k', linewidth=1)\n",
    "\n",
    "world.to_crs(prj).plot(fc='none',\n",
    "                       ec='none',\n",
    "                       linewidth=0.8,\n",
    "                       ax=ax)\n",
    "\n",
    "oceans.to_crs(prj).plot(fc='#2f5e95',\n",
    "                        ec='none',\n",
    "                        ax=ax)\n",
    "\n",
    "hexagons.to_crs(prj).plot(column='z',\n",
    "                          cmap='gist_earth',\n",
    "                          vmin=-2500,\n",
    "                          vmax=2500, \n",
    "                          ec='w',\n",
    "                          linewidth=0.5,\n",
    "                          legend=False,\n",
    "                          ax=ax)\n",
    "\n",
    "ax.set_xlim(-2.5e6, 2.5e6)\n",
    "ax.set_ylim(2e6, 7e6)\n",
    "\n",
    "ax.set_title('         hexagons tile\\n         the (great) plain(s)', font='DejaVu Sans Mono', loc='left', y=0.9)\n",
    "\n",
    "ax.annotate(text='Data from: Natural Earth and ASTER GDEM (NASA/METI)',\n",
    "            xy=(1,0.01), \n",
    "            xycoords='axes fraction', \n",
    "            ha='right',\n",
    "            c='k', \n",
    "            backgroundcolor='w', \n",
    "            fontsize=8,\n",
    "            font='DejaVu Sans Mono')\n",
    "\n",
    "ax.annotate(text='by:tlohde',\n",
    "            xy=(0.01,0.01), \n",
    "            xycoords='axes fraction',\n",
    "            ha='left',\n",
    "            c='w',\n",
    "            fontsize=8,\n",
    "            font='DejaVu Sans Mono')\n",
    "\n",
    "ax.set_axis_off()"
   ]
  },
  {
   "cell_type": "code",
   "execution_count": null,
   "metadata": {},
   "outputs": [],
   "source": [
    "fig.savefig('day9.png', bbox_inches='tight', dpi=300)"
   ]
  }
 ],
 "metadata": {
  "kernelspec": {
   "display_name": "shadow",
   "language": "python",
   "name": "python3"
  },
  "language_info": {
   "codemirror_mode": {
    "name": "ipython",
    "version": 3
   },
   "file_extension": ".py",
   "mimetype": "text/x-python",
   "name": "python",
   "nbconvert_exporter": "python",
   "pygments_lexer": "ipython3",
   "version": "3.11.0"
  }
 },
 "nbformat": 4,
 "nbformat_minor": 2
}
