{
 "cells": [
  {
   "cell_type": "markdown",
   "metadata": {},
   "source": [
    "### fault lines from BGS via DigiMap"
   ]
  },
  {
   "cell_type": "code",
   "execution_count": null,
   "metadata": {},
   "outputs": [],
   "source": [
    "from glob import glob\n",
    "import geopandas as gpd\n",
    "import matplotlib.pyplot as plt\n",
    "import pandas as pd\n",
    "plt.rcParams['font.family']=['monospace']"
   ]
  },
  {
   "cell_type": "code",
   "execution_count": null,
   "metadata": {},
   "outputs": [],
   "source": [
    "faults = pd.concat([gpd.read_file(f) for f in glob('Download_onshore_250k_faults/bgs-250k_5231607/*/*.shp')])"
   ]
  },
  {
   "cell_type": "markdown",
   "metadata": {},
   "source": [
    "### railways from osm"
   ]
  },
  {
   "cell_type": "code",
   "execution_count": null,
   "metadata": {},
   "outputs": [],
   "source": [
    "from osmnx import features_from_bbox, geocode_to_gdf"
   ]
  },
  {
   "cell_type": "code",
   "execution_count": null,
   "metadata": {},
   "outputs": [],
   "source": [
    "aoi = geocode_to_gdf(['Scotland, UK'])\n",
    "aoi_osgb = aoi.to_crs(faults.crs) # reproject to same crs as faults\n",
    "west,south,east,north = aoi.total_bounds\n",
    "\n",
    "# clip faults to AOI\n",
    "faults_aoi = faults.loc[faults['FEATURE'] != '250k_Coastline_OS'].clip(aoi_osgb)"
   ]
  },
  {
   "cell_type": "code",
   "execution_count": null,
   "metadata": {},
   "outputs": [],
   "source": [
    "railways = features_from_bbox(north=north,\n",
    "                             south=south,\n",
    "                             east=east,\n",
    "                             west=west,\n",
    "                             tags={'railway':'rail'}).reset_index()"
   ]
  },
  {
   "cell_type": "code",
   "execution_count": null,
   "metadata": {},
   "outputs": [],
   "source": [
    "# reproject and clip to AOI, filter out geometries that aren't linestrings\n",
    "railways_aoi = railways.to_crs(faults.crs).clip(aoi_osgb)\n",
    "railways_aoi = railways_aoi.loc[railways_aoi.geom_type=='LineString']"
   ]
  },
  {
   "cell_type": "code",
   "execution_count": null,
   "metadata": {},
   "outputs": [],
   "source": [
    "# plot\n",
    "minx,miny,maxx,maxy = railways_aoi.total_bounds\n",
    "\n",
    "fig,ax=plt.subplots(figsize=[10,10])\n",
    "\n",
    "faults_aoi[faults_aoi['FEATURE'] !='250k_Coastline_OS'].plot(ax=ax,color='lightgrey', linewidth=0.5)\n",
    "railways_aoi.plot(ax=ax,color='k',linewidth=0.6)\n",
    "\n",
    "ax.set_ylim(miny-5000,maxy+40000)\n",
    "ax.set_aspect('equal')\n",
    "ax.set_axis_off()\n",
    "ax.set_title('FAULTY\\nRAILWAY\\nLINES', loc='left', y=0.9)\n",
    "\n",
    "fig.savefig('day2.png', bbox_inches='tight')"
   ]
  }
 ],
 "metadata": {
  "kernelspec": {
   "display_name": "gpx",
   "language": "python",
   "name": "python3"
  },
  "language_info": {
   "codemirror_mode": {
    "name": "ipython",
    "version": 3
   },
   "file_extension": ".py",
   "mimetype": "text/x-python",
   "name": "python",
   "nbconvert_exporter": "python",
   "pygments_lexer": "ipython3",
   "version": "3.11.0"
  }
 },
 "nbformat": 4,
 "nbformat_minor": 2
}
