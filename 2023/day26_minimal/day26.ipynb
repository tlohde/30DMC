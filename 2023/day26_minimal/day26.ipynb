{
 "cells": [
  {
   "cell_type": "code",
   "execution_count": null,
   "metadata": {},
   "outputs": [],
   "source": [
    "import cartopy.crs as ccrs\n",
    "import geopandas as gpd\n",
    "import matplotlib.pyplot as plt\n",
    "import matplotlib.ticker as mticker\n",
    "from shapely import minimum_rotated_rectangle\n",
    "plt.rcParams['font.family'] = 'DejaVu Sans Mono'"
   ]
  },
  {
   "cell_type": "code",
   "execution_count": null,
   "metadata": {},
   "outputs": [],
   "source": [
    "world = gpd.read_file('../day3_polygons/ne_10m_admin_0_countries.zip')\n",
    "world = world.explode(index_parts=False).reset_index()\n",
    "\n",
    "prj = ccrs.Robinson()  #InterruptedGoodeHomolosine\n",
    "\n",
    "world_prj = world.to_crs(prj)\n",
    "world_prj['mrr'] = world_prj['geometry'].apply(lambda g: minimum_rotated_rectangle(g))"
   ]
  },
  {
   "cell_type": "code",
   "execution_count": null,
   "metadata": {},
   "outputs": [],
   "source": [
    "fig, ax = plt.subplots(figsize=[10,10],\n",
    "                       subplot_kw={'projection':prj})\n",
    "\n",
    "world_prj.set_geometry('mrr').plot(column='MAPCOLOR9', \n",
    "                                   ec='none',\n",
    "                                   cmap='gist_earth',\n",
    "                                   alpha=0.6, \n",
    "                                   ax=ax)\n",
    "\n",
    "gl = ax.gridlines(crs=ccrs.PlateCarree(),\n",
    "                  zorder=0.2,\n",
    "                  color='lightgray')\n",
    "gl.xlocator = mticker.FixedLocator(list(range(-180,180,30)))\n",
    "ax.set_axis_off()\n",
    "\n",
    "ax.annotate(text='minimum',\n",
    "            xy=(0.91,0.98),\n",
    "            xycoords='axes fraction')\n",
    "\n",
    "ax.annotate(text='rotated',\n",
    "            xy=(0.98,0.86),\n",
    "            xycoords='axes fraction',\n",
    "            rotation=-90,\n",
    "            )\n",
    "\n",
    "ax.annotate(text='rectangles',\n",
    "            xy=(0.89,0.835),\n",
    "            xycoords='axes fraction',\n",
    "            rotation=180,\n",
    "            )\n",
    "\n",
    "ax.annotate(text='Data:\\nNatural Earth',\n",
    "            xy=(0.99,0.01), \n",
    "            xycoords='axes fraction', \n",
    "            ha='right',\n",
    "            fontsize=8)\n",
    "\n",
    "ax.annotate(text='by:tlohde',\n",
    "            xy=(0.01,0.01), \n",
    "            xycoords='axes fraction',\n",
    "            ha='left',\n",
    "            fontsize=8)\n",
    "\n",
    "# fig.savefig('day26.png', dpi=300, bbox_inches='tight')"
   ]
  }
 ],
 "metadata": {
  "kernelspec": {
   "display_name": "shadow",
   "language": "python",
   "name": "python3"
  },
  "language_info": {
   "codemirror_mode": {
    "name": "ipython",
    "version": 3
   },
   "file_extension": ".py",
   "mimetype": "text/x-python",
   "name": "python",
   "nbconvert_exporter": "python",
   "pygments_lexer": "ipython3",
   "version": "3.10.13"
  }
 },
 "nbformat": 4,
 "nbformat_minor": 2
}
