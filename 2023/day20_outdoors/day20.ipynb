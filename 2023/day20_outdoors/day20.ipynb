{
 "cells": [
  {
   "cell_type": "code",
   "execution_count": null,
   "metadata": {},
   "outputs": [],
   "source": [
    "import geopandas as gpd\n",
    "import pystac_client\n",
    "import planetary_computer\n",
    "import rioxarray as rio\n",
    "import xarray as xr\n",
    "from itertools import product\n",
    "import matplotlib.pyplot as plt\n",
    "from matplotlib.colors import LogNorm\n",
    "from matplotlib_scalebar.scalebar import ScaleBar\n",
    "import numpy as np\n",
    "from shapely import Point, box\n",
    "import osmnx as ox\n",
    "import cartopy.crs as ccrs\n",
    "from osgeo import gdal\n",
    "from tqdm import tqdm\n",
    "from rasterio.features import geometry_mask\n",
    "plt.rcParams['font.family'] = 'DejaVu Sans Mono'"
   ]
  },
  {
   "cell_type": "markdown",
   "metadata": {},
   "source": [
    "### get national park boundary and peaks"
   ]
  },
  {
   "cell_type": "code",
   "execution_count": null,
   "metadata": {},
   "outputs": [],
   "source": [
    "### get national park boundary and peaks within national park\n",
    "cgnp_4326 = ox.features.features_from_place('Cairngorms National Park',\n",
    "                                       tags={'boundary':'protected area',\n",
    "                                             'designation':'national_park'}).reset_index()\n",
    "\n",
    "boundary = cgnp_4326.loc[0,'geometry']\n",
    "aoi = box(*boundary.bounds)\n",
    "\n",
    "peaks_4326 = ox.features.features_from_polygon(boundary,\n",
    "                                          tags={'natural':'peak'}).reset_index()\n",
    "\n",
    "peaks_4326['ele'] = peaks_4326['ele'].astype('float32')\n",
    "\n",
    "# get local utm and transform to projected coordinate system\n",
    "prj = ccrs.epsg(cgnp_4326.estimate_utm_crs().to_epsg())\n",
    "\n",
    "cgnp = cgnp_4326.to_crs(prj)\n",
    "peaks = peaks_4326.to_crs(prj)"
   ]
  },
  {
   "cell_type": "markdown",
   "metadata": {},
   "source": [
    "### get DEM from planetary computer"
   ]
  },
  {
   "cell_type": "code",
   "execution_count": null,
   "metadata": {},
   "outputs": [],
   "source": [
    "### get elevation data for national park's bounding box\n",
    "# and export to gdal/dem.tif so don't need to re=run\n",
    "\n",
    "catalog = pystac_client.Client.open(\n",
    "    \"https://planetarycomputer.microsoft.com/api/stac/v1\",\n",
    "    modifier=planetary_computer.sign_inplace)\n",
    "\n",
    "search = catalog.search(collections=['cop-dem-glo-30'],\n",
    "                        intersects=aoi)\n",
    "items = list(search.items())\n",
    "tmps = []\n",
    "for item in items:\n",
    "    signed_asset = planetary_computer.sign(item.assets[\"data\"])\n",
    "    with rio.open_rasterio(signed_asset.href) as tmp:\n",
    "        tmps.append(tmp.squeeze().drop_vars(\"band\").rename('z'))\n",
    "        tmp.close()\n",
    "        \n",
    "dem_4326 = ((xr.merge(tmps))\n",
    "            .rio.set_crs(4326)\n",
    "            .rio.write_transform()\n",
    "            .rio.clip_box(*aoi.bounds)\n",
    "            .rio.write_transform())\n",
    "\n",
    "dem = dem_4326.rio.reproject(prj, resolution=30, nodata=np.nan)['z']\n",
    "\n",
    "dem.rio.to_raster('gdal/dem.tif', driver='GTiff', recalc_transform=True)"
   ]
  },
  {
   "cell_type": "markdown",
   "metadata": {},
   "source": [
    "### get viewsheds"
   ]
  },
  {
   "cell_type": "code",
   "execution_count": null,
   "metadata": {},
   "outputs": [],
   "source": [
    "def run_viewshed(p, id):\n",
    "    '''\n",
    "    p: shapely point geometry\n",
    "    id: int a unique identifer\n",
    "    '''\n",
    "    xyz = [p.x, p.y, 1.0]    \n",
    "    ds = gdal.ViewshedGenerate(\n",
    "        srcBand = src_ds.GetRasterBand(1),\n",
    "        driverName = \"MEM\",\n",
    "        # targetRasterName = f\"viewsheds/view_{id}.tif\",\n",
    "        targetRasterName = str(id),\n",
    "        creationOptions = [\"INTERLEAVE=BAND\"],\n",
    "        observerX = xyz[0],\n",
    "        observerY = xyz[1],\n",
    "        observerHeight = xyz[2],\n",
    "        targetHeight = 0,\n",
    "        visibleVal = 255,\n",
    "        invisibleVal = 0,\n",
    "        outOfRangeVal = 0,\n",
    "        noDataVal = 0,\n",
    "        dfCurvCoeff = 0.85714,\n",
    "        mode = gdal.GVM_Edge,\n",
    "        maxDistance = 80_000,\n",
    "        callback = 0,\n",
    "        callback_data = None,\n",
    "        heightMode = gdal.GVOT_NORMAL,\n",
    "        options=['UNUSED=YES']\n",
    "        )\n",
    "    return ds\n",
    "\n",
    "dss = []\n",
    "src_ds = gdal.Open('gdal/dem.tif')\n",
    "for row in tqdm(peaks.itertuples()):\n",
    "    ds = run_viewshed(row.geometry, row.Index)\n",
    "    dss.append(ds)\n",
    "    \n",
    "vrt_options = gdal.BuildVRTOptions(resampleAlg='cubic', separate=True)\n",
    "vrt = gdal.BuildVRT('gdal/my.vrt', dss, options=vrt_options)\n",
    "gdal.Translate('gdal/all_viewsheds.tif', vrt, format='GTiff')"
   ]
  },
  {
   "cell_type": "code",
   "execution_count": null,
   "metadata": {},
   "outputs": [],
   "source": [
    "## read in results and clip to national park\n",
    "\n",
    "vs = rio.open_rasterio('gdal/all_viewsheds.tif')\n",
    "all_vs = vs.sum(dim='band')/255\n",
    "\n",
    "dimensions = dict(zip(all_vs.dims, all_vs.shape))\n",
    "\n",
    "### mask to national park boundary\n",
    "geomask = geometry_mask([cgnp['geometry'][0]],\n",
    "                        out_shape=(dimensions['y'], dimensions['x']),\n",
    "                        transform=all_vs.rio.transform(),\n",
    "                        invert=True)\n",
    "geomask = xr.DataArray(geomask, dims=['y','x'])\n",
    "masked = all_vs.where(geomask==True)"
   ]
  },
  {
   "cell_type": "code",
   "execution_count": null,
   "metadata": {},
   "outputs": [],
   "source": [
    "## identify least / most visible regions\n",
    "idx_max = masked.argmax(['y','x'])\n",
    "idx_min = masked.argmin(['y','x'])\n",
    "\n",
    "most_visible = gpd.GeoSeries(Point(masked.isel(idx_max).x,\n",
    "                                   masked.isel(idx_max).y),\n",
    "                             crs=prj)\n",
    "\n",
    "peaks.loc[peaks.apply(lambda q: q.geometry.distance(most_visible),\n",
    "                      axis=1).idxmin()]\n",
    "\n",
    "least_visible = gpd.GeoSeries(Point(masked.isel(idx_min).x,\n",
    "                                    masked.isel(idx_min).y),\n",
    "                             crs=prj)"
   ]
  },
  {
   "cell_type": "markdown",
   "metadata": {},
   "source": [
    "### plotting"
   ]
  },
  {
   "cell_type": "code",
   "execution_count": null,
   "metadata": {},
   "outputs": [],
   "source": [
    "fig, ax = plt.subplots(figsize=[10,10],\n",
    "                       subplot_kw={'projection':prj})\n",
    "masked.plot(cmap='magma', norm=LogNorm(), vmin=1, add_colorbar=False)\n",
    "\n",
    "\n",
    "cgnp.plot(ax=ax, fc='none', ec='w', linewidth=2)\n",
    "\n",
    "minx,miny,maxx,maxy = cgnp.total_bounds\n",
    "ax.set_xlim(minx-5000,maxx+5000)\n",
    "ax.set_ylim(miny-5000,maxy+5000)\n",
    "\n",
    "ax.add_artist(ScaleBar(dx=1))\n",
    "\n",
    "ax.set_facecolor('k')\n",
    "ax.set_title('')\n",
    "ax.set_title('visibility\\n in the\\n  cairngorms',\n",
    "             loc='left',\n",
    "             y=0.8,\n",
    "             x=0.08,\n",
    "             color='w')\n",
    "\n",
    "ax.annotate(text='Data:\\nOpenStreetMap\\nCopernicus Global Digital Elevation Model (ESA)',\n",
    "            xy=(0.99,0.01), \n",
    "            xycoords='axes fraction', \n",
    "            ha='right', \n",
    "            fontsize=8,\n",
    "            c='w')\n",
    "\n",
    "ax.annotate(text='by:tlohde',\n",
    "            xy=(0.01,0.01), \n",
    "            xycoords='axes fraction',\n",
    "            ha='left',\n",
    "            fontsize=8,\n",
    "            c='w')\n",
    "\n",
    "fig.savefig('day20.png', dpi=300, bbox_inches='tight')"
   ]
  }
 ],
 "metadata": {
  "kernelspec": {
   "display_name": "Python 3 (ipykernel)",
   "language": "python",
   "name": "python3"
  },
  "language_info": {
   "codemirror_mode": {
    "name": "ipython",
    "version": 3
   },
   "file_extension": ".py",
   "mimetype": "text/x-python",
   "name": "python",
   "nbconvert_exporter": "python",
   "pygments_lexer": "ipython3",
   "version": "3.10.10"
  }
 },
 "nbformat": 4,
 "nbformat_minor": 2
}
