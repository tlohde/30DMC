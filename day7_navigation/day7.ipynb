{
 "cells": [
  {
   "cell_type": "code",
   "execution_count": null,
   "metadata": {},
   "outputs": [],
   "source": [
    "import pandas as pd\n",
    "import geopandas as gpd\n",
    "import requests\n",
    "from shapely import Point\n",
    "import cartopy.crs as ccrs\n",
    "import numpy as np\n",
    "import matplotlib.pyplot as plt\n",
    "import matplotlib.path as mpath\n",
    "from matplotlib.cm import ScalarMappable\n",
    "from matplotlib.colors import Normalize"
   ]
  },
  {
   "cell_type": "code",
   "execution_count": null,
   "metadata": {},
   "outputs": [],
   "source": [
    "def getPoles(url):\n",
    "    _response = requests.get(url)\n",
    "    _tmp = (pd.DataFrame([row.split(' ') for \n",
    "                          row in _response.content.decode().split('\\n')],\n",
    "                         columns=['lon','lat','year']))\n",
    "    _tmp = _tmp.dropna()\n",
    "    for _col in _tmp.columns:\n",
    "        _tmp[_col] = _tmp[_col].astype(float)\n",
    "        \n",
    "    _tmp['geometry'] = _tmp.apply(lambda q: Point(q['lon'], q['lat']), axis=1)\n",
    "    return gpd.GeoDataFrame(_tmp, crs=4326)"
   ]
  },
  {
   "cell_type": "code",
   "execution_count": null,
   "metadata": {},
   "outputs": [],
   "source": [
    "## https://www.ncei.noaa.gov/products/wandering-geomagnetic-poles\n",
    "\n",
    "np_url = 'https://www.ngdc.noaa.gov/geomag/data/poles/NP.xy'\n",
    "sp_url = 'https://www.ngdc.noaa.gov/geomag/data/poles/SP.xy'\n",
    "\n",
    "n = getPoles(np_url)\n",
    "s = getPoles(sp_url)\n",
    "\n",
    "n_crs = ccrs.NorthPolarStereo(central_longitude=0)\n",
    "s_crs = ccrs.SouthPolarStereo(central_longitude=0)\n",
    "\n",
    "world = gpd.read_file(gpd.datasets.get_path('naturalearth_lowres'))"
   ]
  },
  {
   "cell_type": "code",
   "execution_count": null,
   "metadata": {},
   "outputs": [],
   "source": [
    "fig = plt.figure(figsize=[8,4], edgecolor='k', linewidth=2)\n",
    "gs = fig.add_gridspec(1,2)\n",
    "\n",
    "# make axes with different projections\n",
    "ax1 = fig.add_subplot(gs[0,0], projection=n_crs)\n",
    "ax2 = fig.add_subplot(gs[0,1], projection=s_crs)\n",
    "\n",
    "# just plot the northern and southern hemispheres\n",
    "world.cx[:,0:].to_crs(n_crs).plot(ax=ax1,fc='none')\n",
    "world.cx[:,-90:0].to_crs(s_crs).plot(ax=ax2,fc='none')\n",
    "\n",
    "## plot the polar wander pooints, coloured by year\n",
    "n.to_crs(n_crs).plot(ax=ax1, column='year')\n",
    "s.to_crs(s_crs).plot(ax=ax2, column='year')\n",
    "\n",
    "## add a dot for the poles, and crop extent to 60 degrees\n",
    "# ax1.gridlines()\n",
    "ax1.scatter(0,0, c='k', marker = '.')\n",
    "ax1.set_extent([-180,180,60,90], ccrs.PlateCarree())\n",
    "\n",
    "# ax2.gridlines()\n",
    "ax2.scatter(0,0, c='k', marker = '.')\n",
    "ax2.set_extent([-180,180,-90,-60], ccrs.PlateCarree())\n",
    "\n",
    "# force axes to be circular\n",
    "theta = np.linspace(0, 2*np.pi, 100)\n",
    "center, radius = [0.5, 0.5], 0.5\n",
    "verts = np.vstack([np.sin(theta), np.cos(theta)]).T\n",
    "circle = mpath.Path(verts * radius + center)\n",
    "\n",
    "ax1.set_boundary(circle, transform=ax1.transAxes)\n",
    "ax2.set_boundary(circle, transform=ax2.transAxes)\n",
    "\n",
    "# construct common colour map\n",
    "cmap = plt.cm.viridis\n",
    "norm = Normalize(vmin=n['year'].min(),\n",
    "                 vmax=n['year'].max())\n",
    "\n",
    "cbar_ax = fig.add_axes([1, 0.15, 0.01, 0.7])\n",
    "cb = plt.colorbar(ScalarMappable(norm=norm, cmap=cmap), cax=cbar_ax, shrink=0.6, pad=0)\n",
    "cb.outline.set_visible(False)\n",
    "cbar_ax.set_title('year', loc='left')\n",
    "\n",
    "plt.tight_layout()\n",
    "\n",
    "## annotations etc...\n",
    "plt.annotate(text='by:tlohde',\n",
    "            xy=(0.01,0.01), xycoords='figure fraction', fontsize=8, font='DejaVu Sans Mono')\n",
    "\n",
    "plt.annotate(text='Data from: Natural Earth & National Centers for Environmental Information (NOAA)',\n",
    "            xy=(1.1,0.01), xycoords='figure fraction', fontsize=8, ha='right', font='DejaVu Sans Mono')\n",
    "\n",
    "fig.suptitle('the magnetic poles\\ngo wandering', y=0.95)\n",
    "\n",
    "\n",
    "fig.patch.set_edgecolor('k')\n",
    "fig.savefig('day7.png', bbox_inches='tight', dpi=300, edgecolor=fig.get_edgecolor())"
   ]
  }
 ],
 "metadata": {
  "kernelspec": {
   "display_name": "shadow",
   "language": "python",
   "name": "python3"
  },
  "language_info": {
   "codemirror_mode": {
    "name": "ipython",
    "version": 3
   },
   "file_extension": ".py",
   "mimetype": "text/x-python",
   "name": "python",
   "nbconvert_exporter": "python",
   "pygments_lexer": "ipython3",
   "version": "3.11.0"
  }
 },
 "nbformat": 4,
 "nbformat_minor": 2
}
